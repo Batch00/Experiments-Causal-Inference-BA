{
  "nbformat": 4,
  "nbformat_minor": 0,
  "metadata": {
    "colab": {
      "provenance": []
    },
    "kernelspec": {
      "name": "python3",
      "display_name": "Python 3"
    },
    "language_info": {
      "name": "python"
    }
  },
  "cells": [
    {
      "cell_type": "code",
      "execution_count": 12,
      "metadata": {
        "id": "qQNsuNvZLTzj"
      },
      "outputs": [],
      "source": [
        "# import libraries\n",
        "# Carson Batchelor\n",
        "import pandas as pd\n",
        "import numpy as np"
      ]
    },
    {
      "cell_type": "code",
      "source": [
        "# load the data and examine it\n",
        "performance_data = pd.read_csv(\"performance.csv\", delimiter='\\t')\n",
        "quit_data = pd.read_csv(\"quit_data.csv\", delimiter='\\t')\n",
        "wfh_data = pd.read_csv(\"wfh.csv\")\n",
        "\n",
        "print(\"Performance Data:\\n\", performance_data.head())\n",
        "print(\"Quit Data:\\n\", quit_data.head())\n",
        "print(\"WFH Data:\\n\", wfh_data.head())"
      ],
      "metadata": {
        "colab": {
          "base_uri": "https://localhost:8080/"
        },
        "id": "A3z-HoTRLg_R",
        "outputId": "ecd17dfb-3dcf-45fb-e476-997c9fcb0ec0"
      },
      "execution_count": 17,
      "outputs": [
        {
          "output_type": "stream",
          "name": "stdout",
          "text": [
            "Performance Data:\n",
            "    treat perf_2022h1\n",
            "0      0           B\n",
            "1      0           B\n",
            "2      1           A\n",
            "3      0           B\n",
            "4      1           D\n",
            "Quit Data:\n",
            "         treat         role  male             live_far  quit\n",
            "0   Treatment      Manager  Male   Commute <= 90 mins     0\n",
            "1   Treatment      Manager  Male   Commute >  90 mins     0\n",
            "2     Control  Non-manager  Male   Commute <= 90 mins     0\n",
            "3     Control  Non-manager  Male   Commute >  90 mins     0\n",
            "4     Control  Non-manager  Male   Commute <= 90 mins     0\n",
            "WFH Data:\n",
            "    treat  volunteer  takeuprate  date\n",
            "0      0          0    0.004016     0\n",
            "1      1          0    0.454183     0\n",
            "2      0          1    0.001887     0\n",
            "3      1          1    0.269450     0\n",
            "4      0          0    0.004032     2\n"
          ]
        }
      ]
    },
    {
      "cell_type": "code",
      "source": [
        "quit_data['treat'] = quit_data['treat'].map({' Treatment': 1, 'Control': 0})\n",
        "quit_data['role'] = quit_data['role'].map({'Manager': 1, 'Non-manager': 0})\n",
        "quit_data['male'] = quit_data['male'].map({'Male': 1, 'Female': 0})\n",
        "quit_data['live_far'] = quit_data['live_far'].map({' Commute >  90 mins': 1, 'Commute <= 90 mins': 0})\n",
        "performance_data['perf_2022h1'] = performance_data['perf_2022h1'].map({\"D\":0, \"C\":1, \"B\":2, \"B+\":3, \"A\":4})"
      ],
      "metadata": {
        "collapsed": true,
        "id": "x3A-11c7P9ie"
      },
      "execution_count": 19,
      "outputs": []
    },
    {
      "cell_type": "code",
      "source": [
        "# Check the distribution of characteristics by treatment (treat == 1 for treatment, 0 for control)\n",
        "balance_quit = quit_data.groupby('treat').agg(\n",
        "    mean_role=('role', 'mean'),\n",
        "    mean_male=('male', 'mean'),\n",
        "    mean_liveFar=('live_far', 'mean'),\n",
        ").reset_index()\n",
        "print(\"balance quit data:\\n\", balance_quit, \"\\n\")\n",
        "\n",
        "balance_performance = performance_data.groupby('treat').agg(\n",
        "    mean_perf_2022h1=('perf_2022h1', 'mean'),\n",
        ").reset_index()\n",
        "print(\"balance performance data:\\n\", balance_performance, \"\\n\")\n",
        "\n",
        "\n",
        "balance_wfh = wfh_data.groupby('treat').agg(\n",
        "    mean_volunteer=('volunteer', 'mean'),\n",
        ").reset_index()\n",
        "print(\"balance wfh data:\\n\", balance_wfh, \"\\n\")"
      ],
      "metadata": {
        "colab": {
          "base_uri": "https://localhost:8080/"
        },
        "id": "u62blZMkMPBf",
        "outputId": "550a73ea-231b-4098-c1ea-85cad86fbdc7"
      },
      "execution_count": 20,
      "outputs": [
        {
          "output_type": "stream",
          "name": "stdout",
          "text": [
            "balance quit data:\n",
            "    treat  mean_role  mean_male  mean_liveFar\n",
            "0      0   0.247561   0.654878      0.471698\n",
            "1      1   0.242424   0.637626      0.499197 \n",
            "\n",
            "balance performance data:\n",
            "    treat  mean_perf_2022h1\n",
            "0      0          2.547724\n",
            "1      1          2.513353 \n",
            "\n",
            "balance wfh data:\n",
            "    treat  mean_volunteer\n",
            "0      0             0.5\n",
            "1      1             0.5 \n",
            "\n"
          ]
        }
      ]
    },
    {
      "cell_type": "code",
      "source": [
        "# Did the Intervention Affect WFH Rates?\n",
        "wfh_rates = wfh_data.groupby('treat')['takeuprate'].mean().reset_index()\n",
        "print(wfh_rates)"
      ],
      "metadata": {
        "id": "MdQAvItuO21_",
        "colab": {
          "base_uri": "https://localhost:8080/"
        },
        "outputId": "790e32cd-e75c-4bfb-cf7c-d7733305bda8"
      },
      "execution_count": 21,
      "outputs": [
        {
          "output_type": "stream",
          "name": "stdout",
          "text": [
            "   treat  takeuprate\n",
            "0      0    0.003527\n",
            "1      1    0.499694\n"
          ]
        }
      ]
    },
    {
      "cell_type": "code",
      "source": [
        "def make_ate_table(data, outcome, out_cols):\n",
        "  table = data.groupby(\"treat\")[outcome].agg(\n",
        "        mean = 'mean' ,\n",
        "        std = 'std' ,\n",
        "        N = 'count',\n",
        "        sem = \"sem\")\n",
        "\n",
        "  # Confidence intervals\n",
        "  table['lb'] = table['mean'] - 1.96 * table['sem']\n",
        "  table['ub'] = table['mean'] + 1.96 * table['sem']\n",
        "  table[\"error_bar\"] = table[\"sem\"]*1.96\n",
        "\n",
        "  # ATE calculation: difference between treatment and control means\n",
        "  table['ate'] = table['mean'] - table['mean'][0]\n",
        "  table['se_ate'] = np.sqrt(table['sem']**2 + table['sem'][0]**2)\n",
        "  table['ate_lb'] = table['ate'] - 1.96 * table['se_ate']\n",
        "  table['ate_ub'] = table['ate'] + 1.96 * table['se_ate']\n",
        "\n",
        "  return table[out_cols]"
      ],
      "metadata": {
        "id": "LC32cd0Dhp7A"
      },
      "execution_count": 25,
      "outputs": []
    },
    {
      "cell_type": "code",
      "source": [
        "# Effect on Quit rate\n",
        "cols = [\"mean\", \"ate\", \"se_ate\", \"ate_lb\", \"ate_ub\"]\n",
        "quit_table = make_ate_table(quit_data, \"quit\", cols)\n",
        "lb = quit_table[\"ate_lb\"][1]\n",
        "ub = quit_table[\"ate_ub\"][1]\n",
        "print(quit_table)\n",
        "print(\"Quit Rate Effect:\", quit_table[\"ate\"][1])\n",
        "print(f\"95% Confidence Interval for Quit Rate Effect: ({lb},{ub})\")"
      ],
      "metadata": {
        "colab": {
          "base_uri": "https://localhost:8080/"
        },
        "id": "vEElGBBfiAtX",
        "outputId": "322636e9-5338-4b81-d521-8dc6941cdfc8"
      },
      "execution_count": 44,
      "outputs": [
        {
          "output_type": "stream",
          "name": "stdout",
          "text": [
            "           mean       ate    se_ate    ate_lb    ate_ub\n",
            "treat                                                  \n",
            "0      7.195122  0.000000  1.276961 -2.502843  2.502843\n",
            "1      4.797980 -2.397142  1.180162 -4.710260 -0.084024\n",
            "Quit Rate Effect: -2.397142153239715\n",
            "95% Confidence Interval for Quit Rate Effect: (-4.710259829120324,-0.08402447735910545)\n"
          ]
        }
      ]
    },
    {
      "cell_type": "code",
      "source": [
        "# Effect on performance\n",
        "cols = [\"mean\", \"ate\", \"se_ate\", \"ate_lb\", \"ate_ub\"]\n",
        "perf_table = make_ate_table(performance_data, \"perf_2022h1\", cols)\n",
        "lb = perf_table[\"ate_lb\"][1]\n",
        "ub = perf_table[\"ate_ub\"][1]\n",
        "print(perf_table)\n",
        "print(\"Performance Effect:\", perf_table[\"ate\"][1])\n",
        "print(f\"95% Confidence Interval for Performance Effect: ({lb},{ub})\")"
      ],
      "metadata": {
        "colab": {
          "base_uri": "https://localhost:8080/"
        },
        "id": "JV5VPClhkDbU",
        "outputId": "3626a2a8-d6cc-4abb-8572-5809e6346b29"
      },
      "execution_count": 48,
      "outputs": [
        {
          "output_type": "stream",
          "name": "stdout",
          "text": [
            "           mean       ate    se_ate    ate_lb    ate_ub\n",
            "treat                                                  \n",
            "0      2.547724  0.000000  0.044509 -0.087238  0.087238\n",
            "1      2.513353 -0.034371  0.044486 -0.121564  0.052822\n",
            "Performance Effect: -0.034370819662130625\n",
            "95% Confidence Interval for Performance Effect: (-0.12156387505698371,0.05282223573272246)\n"
          ]
        }
      ]
    },
    {
      "cell_type": "code",
      "source": [
        "# Calculate differential attrition\n",
        "attrition_treatment = quit_data[quit_data['treat'] == 1]['quit'].mean()\n",
        "attrition_control = quit_data[quit_data['treat'] == 0]['quit'].mean()\n",
        "differential_attrition = attrition_treatment - attrition_control\n",
        "print(\"Differential Attrition:\", differential_attrition)\n",
        "\n",
        "# Sort the control group by performance\n",
        "control_group = performance_data[performance_data['treat'] == 0].sort_values(by='perf_2022h1')\n",
        "\n",
        "# Trim the control group for upper bound\n",
        "upper_cut = int(len(control_group) * (1 - differential_attrition))\n",
        "mean_control_upper = control_group.iloc[:upper_cut]['perf_2022h1'].mean()\n",
        "\n",
        "# Trim the control group for lower bound\n",
        "lower_cut = int(len(control_group) * differential_attrition)\n",
        "mean_control_lower = control_group.iloc[lower_cut:]['perf_2022h1'].mean()\n",
        "\n",
        "# Calculate treatment group mean\n",
        "mean_treatment = performance_data[performance_data['treat'] == 1]['perf_2022h1'].mean()\n",
        "\n",
        "# Calculate Lee bounds for ITT\n",
        "itt_upper = mean_treatment - mean_control_upper\n",
        "itt_lower = mean_treatment - mean_control_lower\n",
        "\n",
        "print(\"Lee bounds for ITT (Performance):\", itt_lower, \"-\", itt_upper)\n"
      ],
      "metadata": {
        "colab": {
          "base_uri": "https://localhost:8080/"
        },
        "id": "520e8FbEqFbz",
        "outputId": "9a83550b-d1c5-4498-ddd5-178293aeece4"
      },
      "execution_count": 51,
      "outputs": [
        {
          "output_type": "stream",
          "name": "stdout",
          "text": [
            "Differential Attrition: -2.397142153239715\n",
            "Lee bounds for ITT (Performance): -0.034370819662130625 - -0.034370819662130625\n"
          ]
        }
      ]
    }
  ]
}