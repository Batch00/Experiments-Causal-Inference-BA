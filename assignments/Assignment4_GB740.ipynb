{
  "nbformat": 4,
  "nbformat_minor": 0,
  "metadata": {
    "colab": {
      "provenance": []
    },
    "kernelspec": {
      "name": "python3",
      "display_name": "Python 3"
    },
    "language_info": {
      "name": "python"
    }
  },
  "cells": [
    {
      "cell_type": "code",
      "execution_count": 3,
      "metadata": {
        "id": "SQ5HvPlnu1WC"
      },
      "outputs": [],
      "source": [
        "# import numpy, statsmodels.stats.power, pandas\n",
        "import numpy as np\n",
        "import statsmodels.stats.power as smp\n",
        "import pandas as pd"
      ]
    },
    {
      "cell_type": "code",
      "source": [
        "# 1A\n",
        "mean_click_rate = 0.05\n",
        "new_click_rate = mean_click_rate + (0.1 * mean_click_rate)\n",
        "effect_size = new_click_rate - mean_click_rate\n",
        "alpha = 0.05\n",
        "power = 0.90\n",
        "\n",
        "required_sample_size = smp.NormalIndPower().solve_power(\n",
        "    effect_size = effect_size,\n",
        "    power = power,\n",
        "    alpha = alpha\n",
        ")\n",
        "print(\"Required Sample size per group:\", required_sample_size)\n",
        "print(\"Total required sample size:\", required_sample_size * 2)"
      ],
      "metadata": {
        "colab": {
          "base_uri": "https://localhost:8080/"
        },
        "id": "rlJ-5z0Lu7Ak",
        "outputId": "f04a99a2-b1f4-4eec-d539-5399ef5de165"
      },
      "execution_count": 72,
      "outputs": [
        {
          "output_type": "stream",
          "name": "stdout",
          "text": [
            "Required Sample size per group: 840593.5527752708\n",
            "Total required sample size: 1681187.1055505415\n"
          ]
        }
      ]
    },
    {
      "cell_type": "code",
      "source": [
        "# 1B\n",
        "n_treatment = 3200\n",
        "mde_std = smp.tt_ind_solve_power(\n",
        "    nobs1 = n_treatment,\n",
        "    alpha = alpha,\n",
        "    power = power\n",
        ")\n",
        "\n",
        "std_treatment = np.sqrt( .10*(1-.10) )\n",
        "\n",
        "print(\"Minimum detectable effect: \", mde_std)\n",
        "print(\"MDE: \", mde_std*std_treatment)"
      ],
      "metadata": {
        "colab": {
          "base_uri": "https://localhost:8080/"
        },
        "id": "Faf3lxS3xiVs",
        "outputId": "77c8a127-a706-486d-f36e-36aa8f1fd0ae"
      },
      "execution_count": 73,
      "outputs": [
        {
          "output_type": "stream",
          "name": "stdout",
          "text": [
            "Minimum detectable effect:  0.08104803053685428\n",
            "MDE:  0.024314409161056285\n"
          ]
        }
      ]
    },
    {
      "cell_type": "code",
      "source": [
        "# 1C\n",
        "power = smp.tt_ind_solve_power(\n",
        "    effect_size=effect_size,\n",
        "    nobs1=n_treatment,\n",
        "    alpha=alpha\n",
        ")\n",
        "\n",
        "print(\"Power to detect an effect equal to 10% of the mean: \", power)"
      ],
      "metadata": {
        "colab": {
          "base_uri": "https://localhost:8080/"
        },
        "id": "cc1VeW4_zQPV",
        "outputId": "f6204ac5-1dd8-4c40-b2e6-dbe5a63ff412"
      },
      "execution_count": 74,
      "outputs": [
        {
          "output_type": "stream",
          "name": "stdout",
          "text": [
            "Power to detect an effect equal to 10% of the mean:  0.05459330260010606\n"
          ]
        }
      ]
    },
    {
      "cell_type": "code",
      "source": [
        "# 1D\n",
        "baseline_click_rate = 0.05\n",
        "new_click_rate = 0.055\n",
        "alpha = 0.05\n",
        "power = 0.90\n",
        "effect_size = new_click_rate - baseline_click_rate\n",
        "\n",
        "# Calculate required sample size per group\n",
        "required_sample_size = smp.NormalIndPower().solve_power(\n",
        "    effect_size=effect_size,\n",
        "    power=power,\n",
        "    alpha=alpha\n",
        ")\n",
        "print(\"Required sample size per group:\", required_sample_size)\n",
        "print(\"Total required sample size:\", required_sample_size*2)\n",
        "\n",
        "# Total sample size for both groups\n",
        "total_sample_size = required_sample_size * 2\n",
        "views_per_hour = 4000\n",
        "# total hours needed to achieve the total sample size\n",
        "total_hours_needed = total_sample_size / views_per_hour\n",
        "\n",
        "print(\"Total hours needed to run the test:\", total_hours_needed)"
      ],
      "metadata": {
        "colab": {
          "base_uri": "https://localhost:8080/"
        },
        "id": "mjhqAmF-3RGf",
        "outputId": "739479aa-8738-454e-e585-8d4f7242cf92"
      },
      "execution_count": 76,
      "outputs": [
        {
          "output_type": "stream",
          "name": "stdout",
          "text": [
            "Required sample size per group: 840593.5527752729\n",
            "Total required sample size: 1681187.1055505457\n",
            "Total hours needed to run the test: 420.29677638763644\n"
          ]
        }
      ]
    },
    {
      "cell_type": "code",
      "source": [
        "# Question 2\n",
        "data = pd.read_csv(\"upworthy_questions.csv\")\n",
        "# data.head()\n",
        "\n",
        "total_impressions0 = data['impressions0'].sum()\n",
        "total_impressions1 = data['impressions1'].sum()\n",
        "total_clicks0 = data['clicks0'].sum()\n",
        "total_clicks1 = data['clicks1'].sum()\n",
        "\n",
        "# Calculate click-through rates\n",
        "ctr0 = total_clicks0 / total_impressions0\n",
        "ctr1 = total_clicks1 / total_impressions1\n",
        "\n",
        "# difference in means\n",
        "difference_in_means = ctr1 - ctr0\n",
        "\n",
        "# Create a summary DataFrame\n",
        "summary_df = pd.DataFrame({\n",
        "    'Arm': ['Control', 'Treatment'],\n",
        "    'Total Impressions': [total_impressions0, total_impressions1],\n",
        "    'Total Clicks': [total_clicks0, total_clicks1],\n",
        "    'CTR': [ctr0, ctr1]\n",
        "})\n",
        "\n",
        "print(summary_df)\n",
        "print(\"\\n Difference in means (CTR):\", difference_in_means)"
      ],
      "metadata": {
        "colab": {
          "base_uri": "https://localhost:8080/"
        },
        "id": "dlQYht7Z4HcW",
        "outputId": "bb3a188a-5fd5-4075-9b78-00203f23091e"
      },
      "execution_count": 41,
      "outputs": [
        {
          "output_type": "stream",
          "name": "stdout",
          "text": [
            "         Arm  Total Impressions  Total Clicks       CTR\n",
            "0    Control           24870155        302207  0.012151\n",
            "1  Treatment           24867195        273798  0.011010\n",
            "\n",
            " Difference in means (CTR): -0.0011409824019145802\n"
          ]
        }
      ]
    },
    {
      "cell_type": "code",
      "source": [
        "# Calculate stds\n",
        "std0 = np.sqrt(ctr0 * (1 - ctr0) / total_impressions0)\n",
        "std1 = np.sqrt(ctr1 * (1 - ctr1) / total_impressions1)\n",
        "\n",
        "# Standard error of the difference\n",
        "se_diff = np.sqrt(std0**2 + std1**2)\n",
        "\n",
        "# 95% confidence interval\n",
        "ci_lower = difference_in_means - 1.96 * se_diff\n",
        "ci_upper = difference_in_means + 1.96 * se_diff\n",
        "\n",
        "print(\"95% CI for difference in means: (\", ci_lower, \",\", ci_upper, \")\")"
      ],
      "metadata": {
        "colab": {
          "base_uri": "https://localhost:8080/"
        },
        "id": "tHw064sw70Wx",
        "outputId": "f2ad660e-a54b-42a4-ff8c-f73e0e2ab691"
      },
      "execution_count": 42,
      "outputs": [
        {
          "output_type": "stream",
          "name": "stdout",
          "text": [
            "95% CI for difference in means: ( -0.0012004499012693817 , -0.0010815149025597787 )\n"
          ]
        }
      ]
    },
    {
      "cell_type": "code",
      "source": [
        "# Question 3A\n",
        "\n",
        "# Calculate CTR for each arm\n",
        "data['ctr0'] = data['clicks0'] / data['impressions0']\n",
        "data['ctr1'] = data['clicks1'] / data['impressions1']\n",
        "\n",
        "# ATE for each experiment\n",
        "data['ate'] = data['ctr1'] - data['ctr0']\n",
        "\n",
        "average_ate = data['ate'].mean()\n",
        "\n",
        "print(\"Average ATE over all experiments:\", average_ate)"
      ],
      "metadata": {
        "colab": {
          "base_uri": "https://localhost:8080/"
        },
        "id": "9EBICj9F8hAZ",
        "outputId": "348adacd-a5d6-4202-add3-27e004ce5beb"
      },
      "execution_count": 43,
      "outputs": [
        {
          "output_type": "stream",
          "name": "stdout",
          "text": [
            "Average ATE over all experiments: -0.0012118772185663103\n"
          ]
        }
      ]
    },
    {
      "cell_type": "code",
      "source": [
        "# Question 3B\n",
        "\n",
        "# standard error for each arm\n",
        "data['se0'] = np.sqrt((data['ctr0'] * (1 - data['ctr0'])) / data['impressions0'])\n",
        "data['se1'] = np.sqrt((data['ctr1'] * (1 - data['ctr1'])) / data['impressions1'])\n",
        "\n",
        "# standard error of the ATE\n",
        "data['se_ate'] = np.sqrt(data['se0']**2 + data['se1']**2)\n",
        "\n",
        "# 95% confidence interval for each ATE\n",
        "data['ate_lb'] = data['ate'] - 1.96 * data['se_ate']\n",
        "data['ate_ub'] = data['ate'] + 1.96 * data['se_ate']\n",
        "\n",
        "# How many ATEs are statistically significant\n",
        "significant_ates = []\n",
        "for i in range(len(data)):\n",
        "    if data['ate_lb'][i] > 0 or data['ate_ub'][i] < 0:\n",
        "        significant_ates.append(data['ate'][i])\n",
        "\n",
        "# Count of significant ATEs\n",
        "significant_ates_count = len(significant_ates)\n",
        "print(\"Number of statistically significant ATEs:\", significant_ates_count)"
      ],
      "metadata": {
        "colab": {
          "base_uri": "https://localhost:8080/"
        },
        "id": "Fz42vIA5_g4d",
        "outputId": "80b00822-a655-45b9-d8de-e442a10910cc"
      },
      "execution_count": 44,
      "outputs": [
        {
          "output_type": "stream",
          "name": "stdout",
          "text": [
            "Number of statistically significant ATEs: 2315\n"
          ]
        }
      ]
    },
    {
      "cell_type": "code",
      "source": [
        "# Question 3C\n",
        "mean_significant_ate = sum(significant_ates) / len(significant_ates)\n",
        "\n",
        "print(\"Mean ATE among statistically significant experiments:\", mean_significant_ate)"
      ],
      "metadata": {
        "colab": {
          "base_uri": "https://localhost:8080/"
        },
        "id": "FRxDwPU5__pC",
        "outputId": "53e94e4c-07ba-4bc7-98f6-9294551adb9d"
      },
      "execution_count": 45,
      "outputs": [
        {
          "output_type": "stream",
          "name": "stdout",
          "text": [
            "Mean ATE among statistically significant experiments: -0.003049721899747998\n"
          ]
        }
      ]
    }
  ]
}